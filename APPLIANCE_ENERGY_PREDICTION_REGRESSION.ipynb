{
  "nbformat": 4,
  "nbformat_minor": 0,
  "metadata": {
    "colab": {
      "private_outputs": true,
      "provenance": [],
      "collapsed_sections": [
        "vncDsAP0Gaoa",
        "FJNUwmbgGyua",
        "w6K7xa23Elo4",
        "yQaldy8SH6Dl",
        "mDgbUHAGgjLW",
        "O_i_v8NEhb9l",
        "HhfV-JJviCcP",
        "Y3lxredqlCYt",
        "3RnN4peoiCZX",
        "x71ZqKXriCWQ",
        "7hBIi_osiCS2",
        "JlHwYmJAmNHm",
        "35m5QtbWiB9F",
        "PoPl-ycgm1ru",
        "H0kj-8xxnORC",
        "nA9Y7ga8ng1Z",
        "PBTbrJXOngz2",
        "u3PMJOP6ngxN",
        "dauF4eBmngu3",
        "bKJF3rekwFvQ",
        "MSa1f5Uengrz",
        "GF8Ens_Soomf",
        "0wOQAZs5pc--",
        "K5QZ13OEpz2H",
        "lQ7QKXXCp7Bj",
        "448CDAPjqfQr",
        "KSlN3yHqYklG",
        "t6dVpIINYklI",
        "ijmpgYnKYklI",
        "-JiQyfWJYklI",
        "EM7whBJCYoAo",
        "fge-S5ZAYoAp",
        "85gYPyotYoAp",
        "RoGjAbkUYoAp",
        "4Of9eVA-YrdM",
        "iky9q4vBYrdO",
        "F6T5p64dYrdO",
        "y-Ehk30pYrdP",
        "bamQiAODYuh1",
        "QHF8YVU7Yuh3",
        "GwzvFGzlYuh3",
        "qYpmQ266Yuh3",
        "OH-pJp9IphqM",
        "bbFf2-_FphqN",
        "_ouA3fa0phqN",
        "Seke61FWphqN",
        "PIIx-8_IphqN",
        "t27r6nlMphqO",
        "r2jJGEOYphqO",
        "b0JNsNcRphqO",
        "BZR9WyysphqO",
        "jj7wYXLtphqO",
        "eZrbJ2SmphqO",
        "rFu4xreNphqO",
        "YJ55k-q6phqO",
        "gCFgpxoyphqP",
        "OVtJsKN_phqQ",
        "lssrdh5qphqQ",
        "U2RJ9gkRphqQ",
        "1M8mcRywphqQ",
        "tgIPom80phqQ",
        "JMzcOPDDphqR",
        "x-EpHcCOp1ci",
        "X_VqEhTip1ck",
        "8zGJKyg5p1ck",
        "PVzmfK_Ep1ck",
        "n3dbpmDWp1ck",
        "ylSl6qgtp1ck",
        "ZWILFDl5p1ck",
        "M7G43BXep1ck",
        "Ag9LCva-p1cl",
        "E6MkPsBcp1cl",
        "2cELzS2fp1cl",
        "3MPXvC8up1cl",
        "NC_X3p0fY2L0",
        "UV0SzAkaZNRQ",
        "YPEH6qLeZNRQ",
        "q29F0dvdveiT",
        "EXh0U9oCveiU",
        "22aHeOlLveiV",
        "g-ATYxFrGrvw",
        "Yfr_Vlr8HBkt",
        "8yEUt7NnHlrM",
        "tEA2Xm5dHt1r",
        "I79__PHVH19G",
        "Ou-I18pAyIpj",
        "fF3858GYyt-u",
        "4_0_7-oCpUZd",
        "hwyV_J3ipUZe",
        "3yB-zSqbpUZe",
        "dEUvejAfpUZe",
        "Fd15vwWVpUZf",
        "bn_IUdTipZyH",
        "49K5P_iCpZyH",
        "Nff-vKELpZyI",
        "kLW572S8pZyI",
        "dWbDXHzopZyI",
        "yLjJCtPM0KBk",
        "xiyOF9F70UgQ",
        "7wuGOrhz0itI",
        "id1riN9m0vUs",
        "578E2V7j08f6",
        "89xtkJwZ18nB",
        "67NQN5KX2AMe",
        "Iwf50b-R2tYG",
        "GMQiZwjn3iu7",
        "WVIkgGqN3qsr",
        "XkPnILGE3zoT",
        "Hlsf0x5436Go",
        "mT9DMSJo4nBL",
        "c49ITxTc407N",
        "OeJFEK0N496M",
        "9ExmJH0g5HBk",
        "cJNqERVU536h",
        "k5UmGsbsOxih",
        "T0VqWOYE6DLQ",
        "qBMux9mC6MCf",
        "-oLEiFgy-5Pf",
        "C74aWNz2AliB",
        "2DejudWSA-a0",
        "pEMng2IbBLp7",
        "rAdphbQ9Bhjc",
        "TNVZ9zx19K6k",
        "nqoHp30x9hH9",
        "rMDnDkt2B6du",
        "yiiVWRdJDDil",
        "1UUpS68QDMuG",
        "kexQrXU-DjzY",
        "T5CmagL3EC8N",
        "BhH2vgX9EjGr",
        "qjKvONjwE8ra",
        "P1XJ9OREExlT",
        "VFOzZv6IFROw",
        "TIqpNgepFxVj",
        "VfCC591jGiD4",
        "OB4l2ZhMeS1U",
        "ArJBuiUVfxKd",
        "4qY1EAkEfxKe",
        "PiV4Ypx8fxKe",
        "TfvqoZmBfxKf",
        "dJ2tPlVmpsJ0",
        "JWYfwnehpsJ1",
        "-jK_YjpMpsJ2",
        "HAih1iBOpsJ2",
        "zVGeBEFhpsJ2",
        "bmKjuQ-FpsJ3",
        "Fze-IPXLpx6K",
        "7AN1z2sKpx6M",
        "9PIHJqyupx6M",
        "_-qAgymDpx6N",
        "Z-hykwinpx6N",
        "h_CCil-SKHpo",
        "cBFFvTBNJzUa",
        "HvGl1hHyA_VK",
        "EyNgTHvd2WFk",
        "KH5McJBi2d8v",
        "iW_Lq9qf2h6X",
        "-Kee-DAl2viO",
        "gCX9965dhzqZ",
        "gIfDvo9L0UH2"
      ],
      "include_colab_link": true
    },
    "kernelspec": {
      "name": "python3",
      "display_name": "Python 3"
    },
    "language_info": {
      "name": "python"
    }
  },
  "cells": [
    {
      "cell_type": "markdown",
      "metadata": {
        "id": "view-in-github",
        "colab_type": "text"
      },
      "source": [
        "<a href=\"https://colab.research.google.com/github/rashullawania/Model_deployment/blob/main/APPLIANCE_ENERGY_PREDICTION_REGRESSION.ipynb\" target=\"_parent\"><img src=\"https://colab.research.google.com/assets/colab-badge.svg\" alt=\"Open In Colab\"/></a>"
      ]
    },
    {
      "cell_type": "markdown",
      "source": [
        "# **Project Name**    - \n",
        "\n"
      ],
      "metadata": {
        "id": "vncDsAP0Gaoa"
      }
    },
    {
      "cell_type": "markdown",
      "source": [
        "##### **Project Type**    - Regression\n",
        "##### **Contribution**    - Individual\n"
      ],
      "metadata": {
        "id": "beRrZCGUAJYm"
      }
    },
    {
      "cell_type": "markdown",
      "source": [
        "# **PROBLEM STATEMENT -**"
      ],
      "metadata": {
        "id": "FJNUwmbgGyua"
      }
    },
    {
      "cell_type": "markdown",
      "source": [
        "The data set is at 10 min for about 4.5 months. The house temperature and humidity conditions were monitored with a ZigBee wireless sensor network. Each wireless node transmitted the temperature and humidity conditions around 3.3 min. Then, the wireless data was averaged for 10 minutes periods. The energy data was logged every 10 minutes with m-bus energy meters. Weather from the nearest airport weather station (Chievres Airport, Belgium) was downloaded from a public data set from Reliable Prognosis (rp5.ru), and merged together with the experimental data sets using the date and time column. Two random variables have been included in the data set for testing the regression models and to filter out non predictive attributes (parameters)\n",
        "\n",
        "\n",
        "How much energy is consumed in indoor and outdoor appliances?\n",
        "\n",
        "\n",
        "what is the coerration of humidity and temperature in indoor and outdoor environment?\n",
        "\n",
        "\n",
        "Does the environment of sensor affects the way enegry is consumed by appliances?\n",
        "\n",
        "\n",
        "Identify the appliances with low efficiency in home (which room)\n",
        "relationship between appliances and light\n",
        "\n",
        "\n",
        "How weather is coerrated with the energy consumption in homes and why this study is important?"
      ],
      "metadata": {
        "id": "F6v_1wHtG2nS"
      }
    },
    {
      "cell_type": "markdown",
      "source": [
        "# **GitHub Link -**"
      ],
      "metadata": {
        "id": "w6K7xa23Elo4"
      }
    },
    {
      "cell_type": "markdown",
      "source": [
        "Provide your GitHub Link here."
      ],
      "metadata": {
        "id": "h1o69JH3Eqqn"
      }
    },
    {
      "cell_type": "markdown",
      "source": [
        "The data set is at 10 min for about 4.5 months. The house temperature and humidity conditions were monitored with a ZigBee wireless sensor network. Each wireless node transmitted the temperature and humidity conditions around 3.3 min. Then, the wireless data was averaged for 10 minutes periods. The energy data was logged every 10 minutes with m-bus energy meters. Weather from the nearest airport weather station (Chievres Airport, Belgium) was downloaded from a public data set from Reliable Prognosis (rp5.ru), and merged together with the experimental data sets using the date and time column. Two random variables have been included in the data set for testing the regression models and to filter out non predictive attributes (parameters)"
      ],
      "metadata": {
        "id": "yQaldy8SH6Dl"
      }
    },
    {
      "cell_type": "markdown",
      "source": [
        "**Write Problem Statement Here.**"
      ],
      "metadata": {
        "id": "DpeJGUA3kjGy"
      }
    },
    {
      "cell_type": "markdown",
      "source": [
        "# **General Guidelines** : -  "
      ],
      "metadata": {
        "id": "mDgbUHAGgjLW"
      }
    },
    {
      "cell_type": "markdown",
      "source": [
        "1.   Well-structured, formatted, and commented code is required. \n",
        "2.   Exception Handling, Production Grade Code & Deployment Ready Code will be a plus. Those students will be awarded some additional credits. \n",
        "     \n",
        "     The additional credits will have advantages over other students during Star Student selection.\n",
        "       \n",
        "             [ Note: - Deployment Ready Code is defined as, the whole .ipynb notebook should be executable in one go\n",
        "                       without a single error logged. ]\n",
        "\n",
        "3.   Each and every logic should have proper comments.\n",
        "4. You may add as many number of charts you want. Make Sure for each and every chart the following format should be answered.\n",
        "        \n",
        "\n",
        "```\n",
        "# Chart visualization code\n",
        "```\n",
        "            \n",
        "\n",
        "*   Why did you pick the specific chart?\n",
        "*   What is/are the insight(s) found from the chart?\n",
        "* Will the gained insights help creating a positive business impact? \n",
        "Are there any insights that lead to negative growth? Justify with specific reason.\n",
        "\n",
        "5. You have to create at least 15 logical & meaningful charts having important insights.\n",
        "\n",
        "\n",
        "[ Hints : - Do the Vizualization in  a structured way while following \"UBM\" Rule. \n",
        "\n",
        "U - Univariate Analysis,\n",
        "\n",
        "B - Bivariate Analysis (Numerical - Categorical, Numerical - Numerical, Categorical - Categorical)\n",
        "\n",
        "M - Multivariate Analysis\n",
        " ]\n",
        "\n",
        "\n",
        "\n",
        "\n",
        "\n",
        "6. You may add more ml algorithms for model creation. Make sure for each and every algorithm, the following format should be answered.\n",
        "\n",
        "\n",
        "*   Explain the ML Model used and it's performance using Evaluation metric Score Chart.\n",
        "\n",
        "\n",
        "*   Cross- Validation & Hyperparameter Tuning\n",
        "\n",
        "*   Have you seen any improvement? Note down the improvement with updates Evaluation metric Score Chart.\n",
        "\n",
        "*   Explain each evaluation metric's indication towards business and the business impact pf the ML model used.\n",
        "\n",
        "\n",
        "\n",
        "\n",
        "\n",
        "\n",
        "\n",
        "\n",
        "\n",
        "\n",
        "\n",
        "\n",
        "\n",
        "\n",
        "\n",
        "\n",
        "\n",
        "\n"
      ],
      "metadata": {
        "id": "ZrxVaUj-hHfC"
      }
    },
    {
      "cell_type": "markdown",
      "source": [
        "# ***Let's Begin !***"
      ],
      "metadata": {
        "id": "O_i_v8NEhb9l"
      }
    },
    {
      "cell_type": "markdown",
      "source": [
        "## ***1. Know Your Data***"
      ],
      "metadata": {
        "id": "HhfV-JJviCcP"
      }
    },
    {
      "cell_type": "markdown",
      "source": [
        "### Import Libraries"
      ],
      "metadata": {
        "id": "Y3lxredqlCYt"
      }
    },
    {
      "cell_type": "code",
      "source": [
        "# Import Libraries\n",
        "import numpy as np # linear algebra\n",
        "import pandas as pd # data processing, CSV file I/O (e.g. pd.read_csv)\n",
        "import seaborn as sns\n",
        "import datetime as dt\n",
        "from datetime import datetime\n",
        "from matplotlib import pyplot as plt\n",
        "import plotly.express as px\n",
        "\n",
        "import warnings \n",
        "warnings.simplefilter('ignore')\n",
        "%matplotlib Inline"
      ],
      "metadata": {
        "id": "M8Vqi-pPk-HR"
      },
      "execution_count": null,
      "outputs": []
    },
    {
      "cell_type": "code",
      "source": [
        "from google.colab import drive"
      ],
      "metadata": {
        "id": "NAmbXmu6cwBB"
      },
      "execution_count": null,
      "outputs": []
    },
    {
      "cell_type": "code",
      "source": [
        "drive.mount('/content/drive/')"
      ],
      "metadata": {
        "id": "cYg9Oqr4cyQG"
      },
      "execution_count": null,
      "outputs": []
    },
    {
      "cell_type": "markdown",
      "source": [
        "### Dataset Loading"
      ],
      "metadata": {
        "id": "3RnN4peoiCZX"
      }
    },
    {
      "cell_type": "code",
      "source": [
        "# Load Dataset\n",
        "data= pd.read_csv('//content//drive//MyDrive//data_application_energy.csv')"
      ],
      "metadata": {
        "id": "4CkvbW_SlZ_R"
      },
      "execution_count": null,
      "outputs": []
    },
    {
      "cell_type": "markdown",
      "source": [
        "### Dataset First View"
      ],
      "metadata": {
        "id": "x71ZqKXriCWQ"
      }
    },
    {
      "cell_type": "code",
      "source": [
        "# Dataset First Look\n",
        "data.head()"
      ],
      "metadata": {
        "id": "LWNFOSvLl09H"
      },
      "execution_count": null,
      "outputs": []
    },
    {
      "cell_type": "code",
      "source": [
        "data.tail()"
      ],
      "metadata": {
        "id": "dZenwEKJdYgh"
      },
      "execution_count": null,
      "outputs": []
    },
    {
      "cell_type": "markdown",
      "source": [
        "### Dataset Rows & Columns count"
      ],
      "metadata": {
        "id": "7hBIi_osiCS2"
      }
    },
    {
      "cell_type": "code",
      "source": [
        "# Dataset Rows & Columns count\n",
        "data.shape"
      ],
      "metadata": {
        "id": "Kllu7SJgmLij"
      },
      "execution_count": null,
      "outputs": []
    },
    {
      "cell_type": "markdown",
      "source": [
        "### Dataset Information"
      ],
      "metadata": {
        "id": "JlHwYmJAmNHm"
      }
    },
    {
      "cell_type": "code",
      "source": [
        "# Dataset Info\n",
        "data.info()"
      ],
      "metadata": {
        "id": "e9hRXRi6meOf"
      },
      "execution_count": null,
      "outputs": []
    },
    {
      "cell_type": "markdown",
      "source": [
        "#### Duplicate Values"
      ],
      "metadata": {
        "id": "35m5QtbWiB9F"
      }
    },
    {
      "cell_type": "code",
      "source": [
        "data.columns.duplicated().any()"
      ],
      "metadata": {
        "id": "DglCQJjUdwMI"
      },
      "execution_count": null,
      "outputs": []
    },
    {
      "cell_type": "markdown",
      "source": [
        "#### Missing Values/Null Values"
      ],
      "metadata": {
        "id": "PoPl-ycgm1ru"
      }
    },
    {
      "cell_type": "code",
      "source": [
        "# Missing Values/Null Values Count\n",
        "data.isnull().sum()"
      ],
      "metadata": {
        "id": "GgHWkxvamxVg"
      },
      "execution_count": null,
      "outputs": []
    },
    {
      "cell_type": "code",
      "source": [
        "# Visualizing the missing values\n",
        "plt.figure(figsize=(14,5))\n",
        "sns.heatmap(data.isnull(), cbar=False, cmap = \"hot\")"
      ],
      "metadata": {
        "id": "3q5wnI3om9sJ"
      },
      "execution_count": null,
      "outputs": []
    },
    {
      "cell_type": "code",
      "source": [
        "data.nunique()"
      ],
      "metadata": {
        "id": "6XzheHpjhCso"
      },
      "execution_count": null,
      "outputs": []
    },
    {
      "cell_type": "markdown",
      "source": [
        "### What did you know about your dataset?"
      ],
      "metadata": {
        "id": "H0kj-8xxnORC"
      }
    },
    {
      "cell_type": "markdown",
      "source": [
        "The dataset given is a dataset from Appliance energyn , and we have to analysis the Energy consumed and the insights behind it.\n",
        "\n",
        "Appliance energy is analytical studies How much energy consumed and realatioship between light and appliances\n",
        "\n",
        "The above dataset has 19735 rows and 29 columns. There are no mising values and duplicate values in the dataset."
      ],
      "metadata": {
        "id": "gfoNAAC-nUe_"
      }
    },
    {
      "cell_type": "markdown",
      "source": [
        "## ***2. Understanding Your Variables***"
      ],
      "metadata": {
        "id": "nA9Y7ga8ng1Z"
      }
    },
    {
      "cell_type": "code",
      "source": [
        "# Dataset Columns\n",
        "data.columns"
      ],
      "metadata": {
        "id": "j7xfkqrt5Ag5"
      },
      "execution_count": null,
      "outputs": []
    },
    {
      "cell_type": "code",
      "source": [
        "# Dataset Describe\n",
        "data.describe()"
      ],
      "metadata": {
        "id": "DnOaZdaE5Q5t"
      },
      "execution_count": null,
      "outputs": []
    },
    {
      "cell_type": "markdown",
      "source": [
        "## 3. ***Data Wrangling***"
      ],
      "metadata": {
        "id": "dauF4eBmngu3"
      }
    },
    {
      "cell_type": "markdown",
      "source": [
        "### Data Wrangling Code"
      ],
      "metadata": {
        "id": "bKJF3rekwFvQ"
      }
    },
    {
      "cell_type": "code",
      "source": [
        "# Write your code to make your dataset analysis ready.\n",
        "#converting date into datetime\n",
        "data['date'] = data['date'].astype('datetime64[ns]')\n"
      ],
      "metadata": {
        "id": "wk-9a2fpoLcV"
      },
      "execution_count": null,
      "outputs": []
    },
    {
      "cell_type": "code",
      "source": [
        "data.head(2)"
      ],
      "metadata": {
        "id": "Y8JwFv_pfCkC"
      },
      "execution_count": null,
      "outputs": []
    },
    {
      "cell_type": "code",
      "source": [
        "data['Date'] = pd.to_datetime(data['date']).dt.date\n",
        "data['Time'] = pd.to_datetime(data['date']).dt.time\n",
        "data['hour'] = data['date'].dt.hour\n",
        "data['month'] = data['date'].dt.month\n",
        "data.tail(2)\n",
        "#data['Dates'] "
      ],
      "metadata": {
        "id": "4BTMmSWZfC4K"
      },
      "execution_count": null,
      "outputs": []
    },
    {
      "cell_type": "code",
      "source": [
        "# Chart - 9 visualization code\n",
        "data['day_of_week'] = data['date'].dt.dayofweek.astype(int)\n",
        "dayOfWeek={0:'Monday', 1:'Tuesday', 2:'Wednesday', 3:'Thursday', 4:'Friday', 5:'Saturday', 6:'Sunday'}\n",
        "data['day_name'] = data['date'].dt.dayofweek.map(dayOfWeek)"
      ],
      "metadata": {
        "id": "bV1yTddsMKFp"
      },
      "execution_count": null,
      "outputs": []
    },
    {
      "cell_type": "code",
      "source": [
        "data.groupby('day_name')['Appliances'].mean().sort_values(ascending=False)"
      ],
      "metadata": {
        "id": "r_5ZeVqVMKVt"
      },
      "execution_count": null,
      "outputs": []
    },
    {
      "cell_type": "code",
      "source": [
        "# Chart - 11 visualization code\n",
        "energy2 = data[['Appliances','Windspeed','Press_mm_hg']]\n",
        "corr= energy2.corr()\n",
        "corr"
      ],
      "metadata": {
        "id": "CuCNq3vpMKkC"
      },
      "execution_count": null,
      "outputs": []
    },
    {
      "cell_type": "code",
      "source": [
        "data.groupby('hour')['Appliances'].mean().sort_values(ascending=False)"
      ],
      "metadata": {
        "id": "rHbp5dkINzAk"
      },
      "execution_count": null,
      "outputs": []
    },
    {
      "cell_type": "markdown",
      "source": [
        "### What all manipulations have you done and insights you found?"
      ],
      "metadata": {
        "id": "MSa1f5Uengrz"
      }
    },
    {
      "cell_type": "markdown",
      "source": [
        "According to my idea, we will get a clear view of the appliances on monday appliances value is maximum \n",
        "\n",
        "\n",
        "18th hour appliances value is more appliances value are correlated with winds value \n",
        "\n",
        "  if value of Press_mm_hg increase then decrease appliances value\n",
        "\n",
        "  Temperature columns - Temperature inside the house varies between 14.89 Deg & 29.85 Deg , temperatire outside (T6) varies between -6.06 Deg to 28.29 Deg . The reason for this variation is sensors are kept outside the house\n",
        "\n",
        "Humidiy columns - Humidity inside house varies is between 20.60% to 63.36% with exception of RH_5 (Bathroom) and RH_6 (Outside house) which varies between 29.82% to 96.32% and 1% to 99.9% respectively.\n",
        "\n",
        "Appliances - 75% of Appliance consumption is less than 100 Wh . With the maximum consumption of 1080 Wh , there will be outliers in this column and there are small number of cases where consumption is very high\n",
        "\n",
        "Lights column - Intially I believed lights column will be able to give useful information . With 11438 0 (zero) enteries in 14801 rows , this column will not add any value to the model . I believed light consumption along with humidity level in a room will give idea about human presence in the room and hence its impact on Appliance consumption. Hence for now , I will dropping this column"
      ],
      "metadata": {
        "id": "LbyXE7I1olp8"
      }
    },
    {
      "cell_type": "markdown",
      "source": [
        "## ***4. Data Vizualization, Storytelling & Experimenting with charts : Understand the relationships between variables***"
      ],
      "metadata": {
        "id": "GF8Ens_Soomf"
      }
    },
    {
      "cell_type": "markdown",
      "source": [
        "#### Chart - 1"
      ],
      "metadata": {
        "id": "0wOQAZs5pc--"
      }
    },
    {
      "cell_type": "code",
      "source": [
        "# Chart - 1 visualization code\n",
        "cor = data.corr()\n",
        "cor_target = abs(cor['Appliances'])\n",
        "#Selecting highly correlated features\n",
        "highly_corr = cor_target[cor_target>0.075]\n",
        "highly_corr = highly_corr.index.tolist()\n"
      ],
      "metadata": {
        "id": "7v_ESjsspbW7"
      },
      "execution_count": null,
      "outputs": []
    },
    {
      "cell_type": "code",
      "source": [
        "plt.figure(figsize=(18,8))\n",
        "sns.heatmap(data[highly_corr].corr(), annot=True)"
      ],
      "metadata": {
        "id": "xGJMK6Vyf88h"
      },
      "execution_count": null,
      "outputs": []
    },
    {
      "cell_type": "markdown",
      "source": [
        "##### 1. Why did you pick the specific chart?"
      ],
      "metadata": {
        "id": "K5QZ13OEpz2H"
      }
    },
    {
      "cell_type": "markdown",
      "source": [
        "A correlation matrix is a table showing correlation coefficients between variables. Each cell in the table shows the correlation between two variables. A correlation matrix is used to summarize data, as an input into a more advanced analysis, and as a diagnostic for advanced analyses. The range of correlation is [-1,1].\n",
        "\n",
        "Thus to know the correlation between all the variables along with the correlation coeficients, i used correlation heatmap."
      ],
      "metadata": {
        "id": "XESiWehPqBRc"
      }
    },
    {
      "cell_type": "markdown",
      "source": [
        "##### 2. What is/are the insight(s) found from the chart?"
      ],
      "metadata": {
        "id": "lQ7QKXXCp7Bj"
      }
    },
    {
      "cell_type": "markdown",
      "source": [
        "Temperature - All the temperature variables from T1-T9 and T_out have positive correlation with the target Appliances . For the indoortemperatures, the correlations are high as expected, since the ventilation is driven by the HRV unit and minimizes air tempera-ture differences between rooms. Four columns have a high degree of correlation with T9 - T3,T5,T7,T8 also T6 & T_Out has high correlation (both temperatures from outside) . Hence T6 & T9 can be removed from training set as information provided by them can be provided by other fields.\n",
        "\n",
        "Weather attributes - Visibility, Tdewpoint, Press_mm_hg have low correlation values\n",
        "\n",
        "Humidity - There are no significantly high correlation cases (> 0.9) for humidity sensors.\n",
        "\n",
        "Random variables have no role to play"
      ],
      "metadata": {
        "id": "C_j1G7yiqdRP"
      }
    },
    {
      "cell_type": "code",
      "source": [
        "# Chart - 2 visualization code\n",
        "#dropping columns to see humidity indoor and outdoor and how its correlated over time period \n",
        "new_data = data.loc[:, data.columns.drop(['date','Appliances', 'lights','T1','T2','T3','T4','T5','T6','T7','T8','T9','T_out','Press_mm_hg','Windspeed','Visibility','Tdewpoint','rv1','rv2'])]\n",
        "print(new_data)"
      ],
      "metadata": {
        "id": "R4YgtaqtYklH"
      },
      "execution_count": null,
      "outputs": []
    },
    {
      "cell_type": "code",
      "source": [
        "corr_data=new_data.corr()"
      ],
      "metadata": {
        "id": "fLTgwmWhiAk_"
      },
      "execution_count": null,
      "outputs": []
    },
    {
      "cell_type": "code",
      "source": [
        "sns.clustermap(corr_data,  cmap=\"BuPu\", annot=True, linecolor=\"black\", linewidth=3)"
      ],
      "metadata": {
        "id": "AIcnOSiziBzf"
      },
      "execution_count": null,
      "outputs": []
    },
    {
      "cell_type": "markdown",
      "source": [
        "##### 1. Why did you pick the specific chart?"
      ],
      "metadata": {
        "id": "t6dVpIINYklI"
      }
    },
    {
      "cell_type": "markdown",
      "source": [
        "A correlation matrix is a table showing correlation coefficients between variables. Each cell in the table shows the correlation between two variables. A correlation matrix is used to summarize data, as an input into a more advanced analysis, and as a diagnostic for advanced analyses. The range of correlation is [-1,1].\n",
        "\n",
        "Thus to know the correlation between all the variables along with the correlation coeficients, i used correlation heatmap."
      ],
      "metadata": {
        "id": "5aaW0BYyYklI"
      }
    },
    {
      "cell_type": "markdown",
      "source": [
        "##### 2. What is/are the insight(s) found from the chart?"
      ],
      "metadata": {
        "id": "ijmpgYnKYklI"
      }
    },
    {
      "cell_type": "markdown",
      "source": [
        "RH_1, Humidity in kitchen area, in % RH_2, Humidity in living room area, in % RH_3, Humidity in laundry room area, in % RH_4, Humidity in office room, in % RH_5, Humidity in bathroom, in % RH_6, Humidity outside the building (north side), in % RH_7, Humidity in ironing room, in % RH_8, Humidity in teenager room 2, in % RH_9, Humidity in parents room, in % RH_out, Humidity outside (from Chievres weather station), in %\n",
        "\n"
      ],
      "metadata": {
        "id": "PSx9atu2YklI"
      }
    },
    {
      "cell_type": "markdown",
      "source": [
        "Answer Here"
      ],
      "metadata": {
        "id": "BcBbebzrYklV"
      }
    },
    {
      "cell_type": "code",
      "source": [
        "# Chart - 3 CHART 3"
      ],
      "metadata": {
        "id": "t6GMdE67YoAp"
      },
      "execution_count": null,
      "outputs": []
    },
    {
      "cell_type": "code",
      "source": [
        "energywhole = data[['Date','Appliances']]\n",
        "energywhole.tail(2)"
      ],
      "metadata": {
        "id": "Uu9SoBc2kGIN"
      },
      "execution_count": null,
      "outputs": []
    },
    {
      "cell_type": "code",
      "source": [
        "energywhole['Date'] = pd.to_datetime(energywhole['Date'])\n",
        "# Set the date as index \n",
        "energywhole = energywhole.set_index('Date')\n",
        "energywhole.head(3)"
      ],
      "metadata": {
        "id": "QyTG3f6Uka_-"
      },
      "execution_count": null,
      "outputs": []
    },
    {
      "cell_type": "code",
      "source": [
        "y = energywhole['Appliances']\n",
        "fig, ax = plt.subplots(figsize=(20, 6))\n",
        "ax.plot(y,marker='.', linestyle='-', linewidth=0.5, label='Monthly')\n",
        "ax.plot(y.resample('M').mean(),marker='o', markersize=8, linestyle='-', label='Monthly Mean Resample')\n",
        "ax.set_ylabel('Appliances')\n",
        "ax.legend();\n"
      ],
      "metadata": {
        "id": "7iJyNDNdkeJH"
      },
      "execution_count": null,
      "outputs": []
    },
    {
      "cell_type": "markdown",
      "source": [
        "##### 1. Why did you pick the specific chart?"
      ],
      "metadata": {
        "id": "fge-S5ZAYoAp"
      }
    },
    {
      "cell_type": "markdown",
      "source": [
        "A  graph is a chart used to display a series of data points connected by straight solid line segments. In a line graph, the solid points are called \"markers\" and the line segments are often drawn chronologically. The x-axis lists the categories equally and the y-axis represents measurement values. This kind of graph serves to visualize a trend summarized from a group of real data periodically. For example, if you need to analyze how the revenue of your company develops in a year, making a line graph would be the most efficient solution"
      ],
      "metadata": {
        "id": "5dBItgRVYoAp"
      }
    },
    {
      "cell_type": "markdown",
      "source": [
        "##### 2. What is/are the insight(s) found from the chart?"
      ],
      "metadata": {
        "id": "85gYPyotYoAp"
      }
    },
    {
      "cell_type": "markdown",
      "source": [
        "feb month has the highest energy consumption of appliances in home. This could mean people stayed more inside in the month feb. To find out if they stayed inside more because of weather conditions further analysis is made."
      ],
      "metadata": {
        "id": "4jstXR6OYoAp"
      }
    },
    {
      "cell_type": "markdown",
      "source": [
        "##### 3. Will the gained insights help creating a positive business impact? \n",
        "Are there any insights that lead to negative growth? Justify with specific reason."
      ],
      "metadata": {
        "id": "RoGjAbkUYoAp"
      }
    },
    {
      "cell_type": "markdown",
      "source": [
        "We can save energy in other month and utilize enegy and make prepared in february month because in feb month more appliance used in home"
      ],
      "metadata": {
        "id": "zfJ8IqMcYoAp"
      }
    },
    {
      "cell_type": "markdown",
      "source": [
        "#### Chart - 4"
      ],
      "metadata": {
        "id": "4Of9eVA-YrdM"
      }
    },
    {
      "cell_type": "code",
      "source": [
        "# Chart - 4 visualization code\n",
        "data['Date'] = pd.to_datetime(data['Date'])\n",
        "energy = data.loc[(data['Date'] >= '2016-01-11')\n",
        "                     & (data['Date'] < '2016-01-30')]\n",
        "                     "
      ],
      "metadata": {
        "id": "irlUoxc8YrdO"
      },
      "execution_count": null,
      "outputs": []
    },
    {
      "cell_type": "code",
      "source": [
        "energy = data[[ 'Date','Appliances']]\n",
        "energy.tail(2)"
      ],
      "metadata": {
        "id": "mS750sdWlIuj"
      },
      "execution_count": null,
      "outputs": []
    },
    {
      "cell_type": "code",
      "source": [
        "energy.dtypes"
      ],
      "metadata": {
        "id": "gEWtoigulKBl"
      },
      "execution_count": null,
      "outputs": []
    },
    {
      "cell_type": "code",
      "source": [
        "energy['Date'] = pd.to_datetime(energy['Date'])\n",
        "# Set the date as index \n",
        "energy = energy.set_index('Date')\n",
        "energy.head()"
      ],
      "metadata": {
        "id": "j2o3a5TFlKL-"
      },
      "execution_count": null,
      "outputs": []
    },
    {
      "cell_type": "code",
      "source": [
        "import warnings\n",
        "y = energy['Appliances']\n",
        "fig, ax = plt.subplots(figsize=(20, 6))\n",
        "ax.plot(y,marker='.', linestyle='-', linewidth=0.5, label='Weekly')\n",
        "ax.plot(y.resample('M').mean(),marker='o', markersize=8, linestyle='-', label='Monthly Mean Resample')\n",
        "ax.set_ylabel('Appliances')\n",
        "ax.legend();"
      ],
      "metadata": {
        "id": "xJkLmMfGlWal"
      },
      "execution_count": null,
      "outputs": []
    },
    {
      "cell_type": "markdown",
      "source": [
        "##### 1. Why did you pick the specific chart?"
      ],
      "metadata": {
        "id": "iky9q4vBYrdO"
      }
    },
    {
      "cell_type": "markdown",
      "source": [
        "A  graph is a chart used to display a series of data points connected by straight solid line segments. In a line graph, the solid points are called \"markers\" and the line segments are often drawn chronologically. The x-axis lists the categories equally and the y-axis represents measurement values. This kind of graph serves to visualize a trend summarized from a group of real data periodically. For example, if you need to analyze how the revenue of your company develops in a year, making a line graph would be the most efficient solution."
      ],
      "metadata": {
        "id": "aJRCwT6DYrdO"
      }
    },
    {
      "cell_type": "markdown",
      "source": [
        "##### 2. What is/are the insight(s) found from the chart?"
      ],
      "metadata": {
        "id": "F6T5p64dYrdO"
      }
    },
    {
      "cell_type": "markdown",
      "source": [
        "According to observation Monday most appliance used as compared to other week day "
      ],
      "metadata": {
        "id": "Xx8WAJvtYrdO"
      }
    },
    {
      "cell_type": "markdown",
      "source": [
        "#### Chart - 5"
      ],
      "metadata": {
        "id": "bamQiAODYuh1"
      }
    },
    {
      "cell_type": "code",
      "source": [
        "# Chart - 5 visualization code\n",
        "energy1 = data[['Appliances','lights']]"
      ],
      "metadata": {
        "id": "TIJwrbroYuh3"
      },
      "execution_count": null,
      "outputs": []
    },
    {
      "cell_type": "code",
      "source": [
        "energy1.plot( x='Appliances', y='lights', figsize=(20, 5),kind='hist')\n",
        "plt.xlabel(\"Appliances in Wh \")\n",
        "plt.ylabel(\"Lights (wh), frequency\")\n",
        "plt.title(\"energy consumption distribution of light in wh as a appliance \")\n",
        "plt.show()"
      ],
      "metadata": {
        "id": "RP5GtqTWlhGx"
      },
      "execution_count": null,
      "outputs": []
    },
    {
      "cell_type": "markdown",
      "source": [
        "##### 1. Why did you pick the specific chart?"
      ],
      "metadata": {
        "id": "QHF8YVU7Yuh3"
      }
    },
    {
      "cell_type": "markdown",
      "source": [
        "A histogram is very similar to bar charts. This chart is a combination of a line chart and a vertical bar chart. The data here is displayed with the help of equally sized rectangles. A histogram is used to display the distribution of information or data over a continuous time period. The area of the rectangular bars is proportional to the frequency of the variable.\n",
        "\n",
        "Histograms may have a similar appearance to bar charts but unlike them, are used toplot the frequency of variable occurrences in continuous data. This continuous data is divided into classes called bins. The majority and minority points can be easily spotted using these bins. Also, one should make sure while drawing a histogram as to not make the bins too thin, which can affect the frequency distribution flow or too thick, that will make it hard to see the change in data."
      ],
      "metadata": {
        "id": "dcxuIMRPYuh3"
      }
    },
    {
      "cell_type": "markdown",
      "source": [],
      "metadata": {
        "id": "zXodM02piUx0"
      }
    },
    {
      "cell_type": "markdown",
      "source": [
        "##### 2. What is/are the insight(s) found from the chart?"
      ],
      "metadata": {
        "id": "GwzvFGzlYuh3"
      }
    },
    {
      "cell_type": "markdown",
      "source": [
        "The most used light is around 10 Watt-hour and the less used light bulb is 40 wh"
      ],
      "metadata": {
        "id": "uyqkiB8YYuh3"
      }
    },
    {
      "cell_type": "markdown",
      "source": [
        "#### Chart - 6"
      ],
      "metadata": {
        "id": "OH-pJp9IphqM"
      }
    },
    {
      "cell_type": "code",
      "source": [
        "# Chart - 6 visualization code\n",
        "grouped_date_df = data.groupby('date') "
      ],
      "metadata": {
        "id": "kuRf4wtuphqN"
      },
      "execution_count": null,
      "outputs": []
    },
    {
      "cell_type": "code",
      "source": [
        "grouped_date_df['Appliances'].agg(np.mean).plot(linewidth=2,color='steelblue',title =\"Average Energy Use in Wh per Day\", figsize=(16, 3));"
      ],
      "metadata": {
        "id": "bFTzpimPl4sF"
      },
      "execution_count": null,
      "outputs": []
    },
    {
      "cell_type": "markdown",
      "source": [
        "##### 1. Why did you pick the specific chart?"
      ],
      "metadata": {
        "id": "bbFf2-_FphqN"
      }
    },
    {
      "cell_type": "markdown",
      "source": [
        "A  graph is a chart used to display a series of data points connected by straight solid line segments. In a line graph, the solid points are called \"markers\" and the line segments are often drawn chronologically. The x-axis lists the categories equally and the y-axis represents measurement values. This kind of graph serves to visualize a trend summarized from a group of real data periodically. For example, if you need to analyze how the revenue of your company develops in a year, making a line graph would be the most efficient solution."
      ],
      "metadata": {
        "id": "loh7H2nzphqN"
      }
    },
    {
      "cell_type": "markdown",
      "source": [
        "##### 2. What is/are the insight(s) found from the chart?"
      ],
      "metadata": {
        "id": "_ouA3fa0phqN"
      }
    },
    {
      "cell_type": "markdown",
      "source": [
        "In jan & Feb month most energy available used in wh per day"
      ],
      "metadata": {
        "id": "VECbqPI7phqN"
      }
    },
    {
      "cell_type": "markdown",
      "source": [
        "#### Chart - 7"
      ],
      "metadata": {
        "id": "PIIx-8_IphqN"
      }
    },
    {
      "cell_type": "code",
      "source": [
        "# Chart - 7 visualization code\n",
        "\n",
        "# focussed displots for RH_6 , RH_out , Visibility , Windspeed due to irregular distribution\n",
        "f, ax = plt.subplots(2,2,figsize=(12,8))\n",
        "vis1 = sns.distplot(data[\"RH_6\"],bins=10, ax= ax[0][0])\n",
        "vis2 = sns.distplot(data[\"RH_out\"],bins=10, ax=ax[0][1])\n",
        "vis3 = sns.distplot(data[\"Visibility\"],bins=10, ax=ax[1][0])\n",
        "vis4 = sns.distplot(data[\"Windspeed\"],bins=10, ax=ax[1][1])\n",
        "# Distribution of values in Applainces column\n",
        "f = plt.figure(figsize=(12,5))\n",
        "plt.xlabel('Appliance consumption in Wh')\n",
        "plt.ylabel('Frequency')\n",
        "sns.distplot(data['Appliances'] , bins=10 ) ;"
      ],
      "metadata": {
        "id": "lqAIGUfyphqO"
      },
      "execution_count": null,
      "outputs": []
    },
    {
      "cell_type": "markdown",
      "source": [
        "##### 1. Why did you pick the specific chart?"
      ],
      "metadata": {
        "id": "t27r6nlMphqO"
      }
    },
    {
      "cell_type": "markdown",
      "source": [
        "You can show all kinds of variations of the distplot. We use the subplot() method from the pylab module to show 4 variations at once.\n",
        "\n",
        "By changing the parameters in the distplot() method you can create totally different views. You can play around with these parameters to change color, orientation and more."
      ],
      "metadata": {
        "id": "iv6ro40sphqO"
      }
    },
    {
      "cell_type": "markdown",
      "source": [
        "##### 2. What is/are the insight(s) found from the chart?"
      ],
      "metadata": {
        "id": "r2jJGEOYphqO"
      }
    },
    {
      "cell_type": "markdown",
      "source": [
        "\n",
        "\n",
        "Temperature - All the columns follow normal distribution except T9\n",
        "\n",
        "\n",
        "Humidity - All columns follow normal distribution except RH_6 and RH_out , primarly because these sensors are outside the house\n",
        "\n",
        "\n",
        "Appliance - This column is postively skewed , most the values are around mean 100 Wh . There are outliers in this column\n",
        "\n",
        "\n",
        "Visibilty - This column is negatively skewed\n",
        "\n",
        "Windspeed - This column is postively skewed"
      ],
      "metadata": {
        "id": "Po6ZPi4hphqO"
      }
    },
    {
      "cell_type": "markdown",
      "source": [
        "#### Chart - 8"
      ],
      "metadata": {
        "id": "BZR9WyysphqO"
      }
    },
    {
      "cell_type": "code",
      "source": [
        "# Chart - 8 visualization code\n",
        "grouped_hour_df = data.groupby('hour')\n",
        "grouped_hour_df['Appliances'].agg(np.mean).plot(linewidth=2,color='darkorange',title =\"Average Energy Use in Wh per Hour\", figsize=(16, 3));"
      ],
      "metadata": {
        "id": "TdPTWpAVphqO"
      },
      "execution_count": null,
      "outputs": []
    },
    {
      "cell_type": "markdown",
      "source": [
        "#### Chart - 9"
      ],
      "metadata": {
        "id": "YJ55k-q6phqO"
      }
    },
    {
      "cell_type": "code",
      "source": [
        "# Chart - 9 visualization code\n",
        "\n",
        "grouped_dayweek_df = data.groupby('day_name',sort=False)\n",
        "grouped_dayweek_df['Appliances'].agg(np.mean).plot(kind='bar', linewidth=2,color=['tomato','cornflowerblue','teal','lightslategrey','darkolivegreen','lightseagreen','darkkhaki'],title =\"Average Energy Use in Wh per Day of the Week\", figsize=(16, 3));\n",
        "\n",
        "\n"
      ],
      "metadata": {
        "id": "B2aS4O1ophqO"
      },
      "execution_count": null,
      "outputs": []
    },
    {
      "cell_type": "code",
      "source": [],
      "metadata": {
        "id": "Q8M_1toZIVgf"
      },
      "execution_count": null,
      "outputs": []
    },
    {
      "cell_type": "markdown",
      "source": [
        "##### 1. Why did you pick the specific chart?"
      ],
      "metadata": {
        "id": "gCFgpxoyphqP"
      }
    },
    {
      "cell_type": "markdown",
      "source": [
        "The comparisons between different variables are easy and convenient.\n",
        "It is the easiest diagram to prepare and does not require too much effort.\n",
        "It is the most widely used method of data representation. Therefore, it is used by various industries.\n",
        "It is used to compare data sets. Data sets are independent of one another.\n",
        "It helps in studying patterns over long periods of time."
      ],
      "metadata": {
        "id": "TVxDimi2phqP"
      }
    },
    {
      "cell_type": "markdown",
      "source": [
        "##### 2. What is/are the insight(s) found from the chart?"
      ],
      "metadata": {
        "id": "OVtJsKN_phqQ"
      }
    },
    {
      "cell_type": "markdown",
      "source": [
        "All days of week monday more energy used as compared to other week day "
      ],
      "metadata": {
        "id": "ngGi97qjphqQ"
      }
    },
    {
      "cell_type": "markdown",
      "source": [
        "#### Chart - 10"
      ],
      "metadata": {
        "id": "U2RJ9gkRphqQ"
      }
    },
    {
      "cell_type": "code",
      "source": [
        "# Chart - 10 visualization code\n",
        "x= data[\"Appliances\"]\n",
        "y= data[\"lights\"]\n",
        "size=(20)\n",
        "plt.scatter(x,y,color=[\"r\"], alpha=0.5)"
      ],
      "metadata": {
        "id": "GM7a4YP4phqQ"
      },
      "execution_count": null,
      "outputs": []
    },
    {
      "cell_type": "markdown",
      "source": [
        "##### 1. Why did you pick the specific chart?"
      ],
      "metadata": {
        "id": "1M8mcRywphqQ"
      }
    },
    {
      "cell_type": "markdown",
      "source": [
        "Unlike other charts, that uses lines or bars this chart only uses markers or dots. Scatter charts are known by different names, scatter graph, scatter plot, scatter diagram or correlation chart. This chart is between two points or variables. The first variable is independent, and the second variable is dependent on the first one. The main use of scatter charts is to draw the values of two series or variables and compare them over time or any other parameter. The independent variable also called the control parameter, that systematically increases, or decreases is plotted along the horizontal or x-axis. The dependant or measured variable is plotted along the Y-axis.\n",
        "\n",
        "If there is no dependent variable, then either of the variables can be plotted on any axis and chart provides us with the degree of difference between these two variables, which is better known as correlation."
      ],
      "metadata": {
        "id": "8agQvks0phqQ"
      }
    },
    {
      "cell_type": "markdown",
      "source": [
        "##### 2. What is/are the insight(s) found from the chart?"
      ],
      "metadata": {
        "id": "tgIPom80phqQ"
      }
    },
    {
      "cell_type": "markdown",
      "source": [
        "maximum lights are 0 wh one light 70wh as shown in figure 1 and 20 wh are equal"
      ],
      "metadata": {
        "id": "Qp13pnNzphqQ"
      }
    },
    {
      "cell_type": "markdown",
      "source": [
        "#### Chart - 11"
      ],
      "metadata": {
        "id": "x-EpHcCOp1ci"
      }
    },
    {
      "cell_type": "code",
      "source": [
        "plt.figure(figsize=(7,4))\n",
        "sns.heatmap(corr, annot=True, linecolor=\"black\", linewidths=1, fmt='.1f')"
      ],
      "metadata": {
        "id": "O9twWbMJpGKb"
      },
      "execution_count": null,
      "outputs": []
    },
    {
      "cell_type": "markdown",
      "source": [
        "#### Chart - 12"
      ],
      "metadata": {
        "id": "n3dbpmDWp1ck"
      }
    },
    {
      "cell_type": "code",
      "source": [
        "# Chart - 12 visualization code\n",
        "fig, ax = plt.subplots(1, figsize=(7,5))\n",
        "sns.kdeplot(energy2.Appliances,energy2.Press_mm_hg,cmap='Blues',\n",
        "           shade=True, shade_lowest=False)\n",
        "plt.scatter(energy2.Appliances, energy2.Press_mm_hg,color='orangered')"
      ],
      "metadata": {
        "id": "bwevp1tKp1ck"
      },
      "execution_count": null,
      "outputs": []
    },
    {
      "cell_type": "markdown",
      "source": [
        "##### 1. Why did you pick the specific chart?"
      ],
      "metadata": {
        "id": "ylSl6qgtp1ck"
      }
    },
    {
      "cell_type": "markdown",
      "source": [
        "Unlike other charts, that uses lines or bars this chart only uses markers or dots. Scatter charts are known by different names, scatter graph, scatter plot, scatter diagram or correlation chart. This chart is between two points or variables. The first variable is independent, and the second variable is dependent on the first one. The main use of scatter charts is to draw the values of two series or variables and compare them over time or any other parameter. The independent variable also called the control parameter, that systematically increases, or decreases is plotted along the horizontal or x-axis. The dependant or measured variable is plotted along the Y-axis."
      ],
      "metadata": {
        "id": "m2xqNkiQp1ck"
      }
    },
    {
      "cell_type": "markdown",
      "source": [],
      "metadata": {
        "id": "x-lUsV2mp1ck"
      }
    },
    {
      "cell_type": "markdown",
      "source": [
        "#### Chart - 13"
      ],
      "metadata": {
        "id": "Ag9LCva-p1cl"
      }
    },
    {
      "cell_type": "code",
      "source": [
        "# Chart - 13 visualization code\n",
        "energyweather = data[['Date','Press_mm_hg']]\n",
        "energyweather.tail(2)\n",
        "energyweather['Date'] = pd.to_datetime(energyweather['Date'])\n",
        "# Set the date as index \n",
        "energyweather = energyweather.set_index('Date')\n",
        "energyweather.head(3)\n",
        "#ploting atmospheric pressure\n",
        "date = data[\"Date\"]\n",
        "Pressure = data[\"Press_mm_hg\"]\n",
        "plt.figure(figsize=(18, 5))\n",
        "plt.plot(date, Pressure, label=\"low\")\n",
        "plt.title(\"Pressure\")\n",
        "plt.xlabel(\"date\")\n",
        "plt.ylabel(\"Pressure\")\n",
        "plt.show()\n",
        "\n",
        "#ploting appliance\n",
        "date = data[\"Date\"]\n",
        "Appliance = data[\"Appliances\"]\n",
        "plt.figure(figsize=(18, 5))\n",
        "plt.plot(date, Appliance, label=\"low\")\n",
        "plt.title(\"Applliance energy consumption\")\n",
        "plt.xlabel(\"date\")\n",
        "plt.ylabel(\"Appliance\")\n",
        "plt.show()\n",
        "#ploting appliance\n",
        "date = data[\"Date\"]\n",
        "light = data[\"lights\"]\n",
        "plt.figure(figsize=(18, 5))\n",
        "plt.plot(date,light, label=\"low\")\n",
        "plt.title(\"light energy consumption\")\n",
        "plt.xlabel(\"date\")\n",
        "plt.ylabel(\"light\")\n",
        "plt.show()\n"
      ],
      "metadata": {
        "id": "EUfxeq9-p1cl"
      },
      "execution_count": null,
      "outputs": []
    },
    {
      "cell_type": "markdown",
      "source": [
        "##### 1. Why did you pick the specific chart?"
      ],
      "metadata": {
        "id": "E6MkPsBcp1cl"
      }
    },
    {
      "cell_type": "markdown",
      "source": [
        "Thisgraph is a chart used to display a series of data points connected by straight solid line segments. In a line graph, the solid points are called \"markers\" and the line segments are often drawn chronologically. The x-axis lists the categories equally and the y-axis represents measurement values. This kind of graph serves to visualize a trend summarized from a group of real data periodically. For example, if you need to analyze how the revenue of your company develops in a year, making a this graph"
      ],
      "metadata": {
        "id": "V22bRsFWp1cl"
      }
    },
    {
      "cell_type": "markdown",
      "source": [
        "##### 2. What is/are the insight(s) found from the chart?"
      ],
      "metadata": {
        "id": "2cELzS2fp1cl"
      }
    },
    {
      "cell_type": "markdown",
      "source": [
        "when the atomospheric pressure is low it means it is raining, when the pressure is high it is warm weather. Jan month has the most energy consumption by appliances. So, it means peope used appliances more when its hot outside."
      ],
      "metadata": {
        "id": "ozQPc2_Ip1cl"
      }
    },
    {
      "cell_type": "markdown",
      "source": [
        "##### 3. Will the gained insights help creating a positive business impact? \n",
        "Are there any insights that lead to negative growth? Justify with specific reason."
      ],
      "metadata": {
        "id": "3MPXvC8up1cl"
      }
    },
    {
      "cell_type": "markdown",
      "source": [
        "Yes we have prepared when hot outside people used more appliance we can save energy and save money when weather is cold people used less appliance "
      ],
      "metadata": {
        "id": "GL8l1tdLp1cl"
      }
    },
    {
      "cell_type": "markdown",
      "source": [
        "#### Chart - 14 - Correlation Heatmap"
      ],
      "metadata": {
        "id": "NC_X3p0fY2L0"
      }
    },
    {
      "cell_type": "code",
      "source": [
        "# Correlation Heatmap visualization code\n",
        "#plotting pressure and appliances\n",
        "fig,ax = plt.subplots(figsize=(15,7))\n",
        "\n",
        "\n",
        "chart=sns.lineplot(x='Appliances', y='Press_mm_hg', data= data)\n",
        "sns.despine(left=True)"
      ],
      "metadata": {
        "id": "xyC9zolEZNRQ"
      },
      "execution_count": null,
      "outputs": []
    },
    {
      "cell_type": "code",
      "source": [
        "#plotting windspeed and appliances\n",
        "fig,ax = plt.subplots(figsize=(15,7))\n",
        "\n",
        "\n",
        "chart=sns.lineplot(x='Appliances', y='Windspeed', data= data)\n",
        "sns.despine(left=True)"
      ],
      "metadata": {
        "id": "WxgcUugsqMiU"
      },
      "execution_count": null,
      "outputs": []
    },
    {
      "cell_type": "code",
      "source": [
        "# plotting atomospheric pressure\n",
        "y = energyweather['Press_mm_hg']\n",
        "fig, ax = plt.subplots(figsize=(20, 6))\n",
        "ax.plot(y,marker='.', linestyle='-', linewidth=0.5, label='Monthly')\n",
        "ax.plot(y.resample('M').mean(),marker='o', markersize=8, linestyle='-', label='Monthly Mean Resample')\n",
        "ax.set_ylabel('Pressure')\n",
        "ax.legend();"
      ],
      "metadata": {
        "id": "GDchPtA0qMyZ"
      },
      "execution_count": null,
      "outputs": []
    },
    {
      "cell_type": "markdown",
      "source": [
        "##### 1. Why did you pick the specific chart?"
      ],
      "metadata": {
        "id": "UV0SzAkaZNRQ"
      }
    },
    {
      "cell_type": "markdown",
      "source": [
        "Thisgraph is a chart used to display a series of data points connected by straight solid line segments. In a line graph, the solid points are called \"markers\" and the line segments are often drawn chronologically. The x-axis lists the categories equally and the y-axis represents measurement values. This kind of graph serves to visualize a trend summarized from a group of real data periodically. For example, if you need to analyze how the revenue of your company develops in a year, making a this graph"
      ],
      "metadata": {
        "id": "DVPuT8LYZNRQ"
      }
    },
    {
      "cell_type": "markdown",
      "source": [
        "##### 2. What is/are the insight(s) found from the chart?"
      ],
      "metadata": {
        "id": "YPEH6qLeZNRQ"
      }
    },
    {
      "cell_type": "markdown",
      "source": [
        "You can see in graph pressure_mm_hg vs date pressure is constant negligible changes occured every month It is  means pressure little bit effect on appliances  \n",
        "\n",
        "\n",
        "In windspeed vs Appliances graph when appliance value is high then windspeed also increase appliance(800~1000} in this condition windspeed also more\n",
        "\n",
        "In pressure_mm_hg vs Appliances graph when appliance value is low and pressure_mm_hg increase\n",
        "\n",
        "\n"
      ],
      "metadata": {
        "id": "bfSqtnDqZNRR"
      }
    },
    {
      "cell_type": "markdown",
      "source": [
        "#### Chart - 15 - Pair Plot "
      ],
      "metadata": {
        "id": "q29F0dvdveiT"
      }
    },
    {
      "cell_type": "code",
      "source": [
        "# Pair Plot visualization code\n",
        "sns.pairplot(new_data, kind='scatter')\n",
        "plt.show()"
      ],
      "metadata": {
        "id": "o58-TEIhveiU"
      },
      "execution_count": null,
      "outputs": []
    },
    {
      "cell_type": "markdown",
      "source": [
        "##### 1. Why did you pick the specific chart?"
      ],
      "metadata": {
        "id": "EXh0U9oCveiU"
      }
    },
    {
      "cell_type": "markdown",
      "source": [
        "Pair plot is used to understand the best set of features to explain a relationship between two variables or to form the most separated clusters. It also helps to form some simple classification models by drawing some simple lines or make linear separation in our data-set.\n",
        "\n",
        "Thus, I used pair plot to analyse the patterns of data and realationship between the features. It's exactly same as the correlation map but here you will get the graphical representation."
      ],
      "metadata": {
        "id": "eMmPjTByveiU"
      }
    },
    {
      "cell_type": "markdown",
      "source": [
        "##### 2. What is/are the insight(s) found from the chart?"
      ],
      "metadata": {
        "id": "22aHeOlLveiV"
      }
    },
    {
      "cell_type": "markdown",
      "source": [
        "RH_1, Humidity in kitchen area, in % RH_2, Humidity in living room area, in % RH_3, Humidity in laundry room area, in % RH_4, Humidity in office room, in % RH_5, Humidity in bathroom, in % RH_6, Humidity outside the building (north side), in % RH_7, Humidity in ironing room, in % RH_8, Humidity in teenager room 2, in % RH_9, Humidity in parents room, in % RH_out, Humidity outside (from Chievres weather station), in %"
      ],
      "metadata": {
        "id": "uPQ8RGwHveiV"
      }
    },
    {
      "cell_type": "markdown",
      "source": [
        "## ***6. Feature Engineering & Data Pre-processing***"
      ],
      "metadata": {
        "id": "yLjJCtPM0KBk"
      }
    },
    {
      "cell_type": "markdown",
      "source": [
        "Distribution data in train test split"
      ],
      "metadata": {
        "id": "xiyOF9F70UgQ"
      }
    },
    {
      "cell_type": "code",
      "source": [
        "from sklearn.model_selection import train_test_split\n",
        "\n",
        "# 75% of the data is usedfor the training of the models and the rest is used for testing\n",
        "train, test = train_test_split(data,test_size=0.25,random_state=40)"
      ],
      "metadata": {
        "id": "nzSmth0254Xi"
      },
      "execution_count": null,
      "outputs": []
    },
    {
      "cell_type": "code",
      "source": [
        "# Divide the columns based on type for clear column management \n",
        "\n",
        "col_temp = [\"T1\",\"T2\",\"T3\",\"T4\",\"T5\",\"T6\",\"T7\",\"T8\",\"T9\"]\n",
        "\n",
        "col_hum = [\"RH_1\",\"RH_2\",\"RH_3\",\"RH_4\",\"RH_5\",\"RH_6\",\"RH_7\",\"RH_8\",\"RH_9\"]\n",
        "\n",
        "col_weather = [\"T_out\", \"Tdewpoint\",\"RH_out\",\"Press_mm_hg\",\n",
        "                \"Windspeed\",\"Visibility\"] \n",
        "col_light = [\"lights\"]\n",
        "\n",
        "col_randoms = [\"rv1\", \"rv2\"]\n",
        "\n",
        "col_target = [\"Appliances\"]"
      ],
      "metadata": {
        "id": "z-XgQWFP6VG9"
      },
      "execution_count": null,
      "outputs": []
    },
    {
      "cell_type": "code",
      "source": [
        "feature_vars = train[col_temp + col_hum + col_weather + col_light + col_randoms ]\n",
        "target_vars = train[col_target]"
      ],
      "metadata": {
        "id": "SpS8118i6XNN"
      },
      "execution_count": null,
      "outputs": []
    },
    {
      "cell_type": "code",
      "source": [
        "# Due to lot of zero enteries this column is of not much use and will be ignored in rest of the model\n",
        "_ = feature_vars.drop(['lights'], axis=1 , inplace= True) ;"
      ],
      "metadata": {
        "id": "tbV9ZTx26XZI"
      },
      "execution_count": null,
      "outputs": []
    },
    {
      "cell_type": "code",
      "source": [
        "#Split training dataset into independent and dependent varibales\n",
        "train_X = train[feature_vars.columns]\n",
        "train_y = train[target_vars.columns]"
      ],
      "metadata": {
        "id": "1YkRoFQt6Xet"
      },
      "execution_count": null,
      "outputs": []
    },
    {
      "cell_type": "code",
      "source": [
        "#Split testing dataset into independent and dependent varibales\n",
        "test_X = test[feature_vars.columns]\n",
        "test_y = test[target_vars.columns]"
      ],
      "metadata": {
        "id": "cOtJ-uic6Xlc"
      },
      "execution_count": null,
      "outputs": []
    },
    {
      "cell_type": "code",
      "source": [
        "# Due to conlusion made above below columns are removed\n",
        "train_X.drop([\"rv1\",\"rv2\",\"Visibility\",\"T6\",\"T9\"],axis=1 , inplace=True)"
      ],
      "metadata": {
        "id": "o7Q-ndni6XrK"
      },
      "execution_count": null,
      "outputs": []
    },
    {
      "cell_type": "code",
      "source": [
        "# Due to conlusion made above below columns are removed\n",
        "test_X.drop([\"rv1\",\"rv2\",\"Visibility\",\"T6\",\"T9\"], axis=1, inplace=True)"
      ],
      "metadata": {
        "id": "bgPmQWww6Xwz"
      },
      "execution_count": null,
      "outputs": []
    },
    {
      "cell_type": "code",
      "source": [
        "train_X.columns"
      ],
      "metadata": {
        "id": "pBZEx-IF7SX2"
      },
      "execution_count": null,
      "outputs": []
    },
    {
      "cell_type": "code",
      "source": [
        "test_X.columns"
      ],
      "metadata": {
        "id": "j4QeyHcY7SrX"
      },
      "execution_count": null,
      "outputs": []
    },
    {
      "cell_type": "code",
      "source": [
        "from sklearn.preprocessing import StandardScaler\n",
        "sc=StandardScaler()\n",
        "\n",
        "# Create test and training set by including Appliances column\n",
        "\n",
        "train = train[list(train_X.columns.values) + col_target ]\n",
        "\n",
        "test = test[list(test_X.columns.values) + col_target ]\n",
        "\n",
        "# Create dummy test and training set to hold scaled values\n",
        "\n",
        "sc_train = pd.DataFrame(columns=train.columns , index=train.index)\n",
        "\n",
        "sc_train[sc_train.columns] = sc.fit_transform(train)\n",
        "sc_test= pd.DataFrame(columns=test.columns , index=test.index)\n",
        "\n",
        "sc_test[sc_test.columns] = sc.fit_transform(test)"
      ],
      "metadata": {
        "id": "Ctu7E45j7jqr"
      },
      "execution_count": null,
      "outputs": []
    },
    {
      "cell_type": "code",
      "source": [
        "sc_train.head()"
      ],
      "metadata": {
        "id": "l4lr7yiu7toF"
      },
      "execution_count": null,
      "outputs": []
    },
    {
      "cell_type": "code",
      "source": [
        "sc_test.head()"
      ],
      "metadata": {
        "id": "cJu4_PRc7t7I"
      },
      "execution_count": null,
      "outputs": []
    },
    {
      "cell_type": "code",
      "source": [
        "# Remove Appliances column from traininig set\n",
        "\n",
        "train_X =  sc_train.drop(['Appliances'] , axis=1)\n",
        "train_y = sc_train['Appliances']\n",
        "\n",
        "test_X =  sc_test.drop(['Appliances'] , axis=1)\n",
        "test_y = sc_test['Appliances']"
      ],
      "metadata": {
        "id": "yIKM41ii7j-Q"
      },
      "execution_count": null,
      "outputs": []
    },
    {
      "cell_type": "markdown",
      "source": [
        "## ***7. ML Model Implementation***"
      ],
      "metadata": {
        "id": "VfCC591jGiD4"
      }
    },
    {
      "cell_type": "markdown",
      "source": [
        "### ML Model "
      ],
      "metadata": {
        "id": "OB4l2ZhMeS1U"
      }
    },
    {
      "cell_type": "markdown",
      "source": [
        " ML Model - Linear regression , Random forest regressor, Lasso, ExtraTreeRegressor"
      ],
      "metadata": {
        "id": "Fze-IPXLpx6K"
      }
    },
    {
      "cell_type": "code",
      "source": [
        "# ML Model - 3 Implementation\n",
        "from sklearn.linear_model import Ridge, Lasso\n",
        "from sklearn.ensemble import RandomForestRegressor, GradientBoostingRegressor, ExtraTreesRegressor\n",
        "from sklearn.neural_network import MLPRegressor\n",
        "import xgboost as xgb\n",
        "from sklearn import neighbors\n",
        "from sklearn.svm import SVR\n"
      ],
      "metadata": {
        "id": "FFrSXAtrpx6M"
      },
      "execution_count": null,
      "outputs": []
    },
    {
      "cell_type": "code",
      "source": [
        "models = [\n",
        "           ['Lasso: ', Lasso()],\n",
        "           ['Ridge: ', Ridge()],\n",
        "           ['KNeighborsRegressor: ',  neighbors.KNeighborsRegressor()],\n",
        "           ['SVR:' , SVR(kernel='rbf')],\n",
        "           ['RandomForest ',RandomForestRegressor()],\n",
        "           ['ExtraTreeRegressor :',ExtraTreesRegressor()],\n",
        "           ['MLPRegressor: ', MLPRegressor(  activation='relu', solver='adam',learning_rate='adaptive',max_iter=1000,learning_rate_init=0.01,alpha=0.01)]\n",
        "           ]"
      ],
      "metadata": {
        "id": "XKwY5JRB9RJ7"
      },
      "execution_count": null,
      "outputs": []
    },
    {
      "cell_type": "markdown",
      "source": [
        "#### 1. Explain the ML Model used and it's performance using Evaluation metric Score Chart."
      ],
      "metadata": {
        "id": "7AN1z2sKpx6M"
      }
    },
    {
      "cell_type": "code",
      "source": [
        "\n",
        "import time\n",
        "from math import sqrt\n",
        "from sklearn import metrics\n",
        "from sklearn.metrics import mean_squared_error\n",
        "\n",
        "model_data = []\n",
        "for name,curr_model in models :\n",
        "    curr_model_data = {}\n",
        "    curr_model.random_state = 78\n",
        "    curr_model_data[\"Name\"] = name\n",
        "    start = time.time()\n",
        "    curr_model.fit(train_X,train_y)\n",
        "    end = time.time()\n",
        "    curr_model_data[\"Train_Time\"] = end - start\n",
        "    curr_model_data[\"Train_R2_Score\"] = metrics.r2_score(train_y,curr_model.predict(train_X))\n",
        "    curr_model_data[\"Test_R2_Score\"] = metrics.r2_score(test_y,curr_model.predict(test_X))\n",
        "    curr_model_data[\"Test_RMSE_Score\"] = sqrt(mean_squared_error(test_y,curr_model.predict(test_X)))\n",
        "    model_data.append(curr_model_data)\n",
        "\n"
      ],
      "metadata": {
        "id": "xIY4lxxGpx6M"
      },
      "execution_count": null,
      "outputs": []
    },
    {
      "cell_type": "code",
      "source": [
        "model_data"
      ],
      "metadata": {
        "id": "T02E6k1C-hs9"
      },
      "execution_count": null,
      "outputs": []
    },
    {
      "cell_type": "code",
      "source": [
        "# Convert list to dataframe\n",
        "df = pd.DataFrame(model_data)"
      ],
      "metadata": {
        "id": "fnpI-fTo-jWH"
      },
      "execution_count": null,
      "outputs": []
    },
    {
      "cell_type": "code",
      "source": [
        "df"
      ],
      "metadata": {
        "id": "ur5GxsGu-jn9"
      },
      "execution_count": null,
      "outputs": []
    },
    {
      "cell_type": "code",
      "source": [
        "df.plot(x=\"Name\", y=['Test_R2_Score' , 'Train_R2_Score' , 'Test_RMSE_Score'], kind=\"bar\" , title = 'R2 Score Results' , figsize= (10,8)) "
      ],
      "metadata": {
        "id": "vKOQW2cC-ssS"
      },
      "execution_count": null,
      "outputs": []
    },
    {
      "cell_type": "code",
      "source": [
        "# `Best results over test set are given by Extra Tree Regressor with R2 score of 0.57\n",
        "# `Least RMSE score is also by Extra Tree Regressor 0.65  \n",
        "# Lasso regularization over Linear regression was worst performing model"
      ],
      "metadata": {
        "id": "vnNJ1zA604Vv"
      },
      "execution_count": null,
      "outputs": []
    },
    {
      "cell_type": "markdown",
      "source": [
        "#### 2. Cross- Validation & Hyperparameter Tuning"
      ],
      "metadata": {
        "id": "9PIHJqyupx6M"
      }
    },
    {
      "cell_type": "code",
      "source": [
        "#Parameter Tuning\n",
        "from sklearn.model_selection import GridSearchCV\n",
        "param_grid = [{\n",
        "              'max_depth': [80],\n",
        "              'n_estimators' : [100],\n",
        "              'max_features': [\"auto\"]\n",
        "            }]\n",
        "reg = ExtraTreesRegressor(random_state=40)\n",
        "# Instantiate the grid search model\n",
        "grid_search = GridSearchCV(estimator = reg, param_grid = param_grid, cv = 5, n_jobs = -1 , scoring='r2' , verbose=2)\n",
        "grid_search.fit(train_X, train_y)"
      ],
      "metadata": {
        "id": "3j2kcTJ183P5"
      },
      "execution_count": null,
      "outputs": []
    },
    {
      "cell_type": "code",
      "source": [
        "# Tuned parameter set\n",
        "grid_search.best_params_"
      ],
      "metadata": {
        "id": "sg6eAiOH9RaL"
      },
      "execution_count": null,
      "outputs": []
    },
    {
      "cell_type": "code",
      "source": [
        "# Best possible parameters for ExtraTreesRegressor\n",
        "grid_search.best_estimator_"
      ],
      "metadata": {
        "id": "uGiE_RxB9Rlz"
      },
      "execution_count": null,
      "outputs": []
    },
    {
      "cell_type": "code",
      "source": [
        "# R2 score on training set with tuned parameters\n",
        "\n",
        "grid_search.best_estimator_.score(train_X,train_y)"
      ],
      "metadata": {
        "id": "0JxczU_H9Ruu"
      },
      "execution_count": null,
      "outputs": []
    },
    {
      "cell_type": "code",
      "source": [
        "# R2 score on test set with tuned parameters\n",
        "grid_search.best_estimator_.score(test_X,test_y)"
      ],
      "metadata": {
        "id": "8IqQndq0_g46"
      },
      "execution_count": null,
      "outputs": []
    },
    {
      "cell_type": "code",
      "source": [
        "# RMSE score on test set with tuned parameters\n",
        "\n",
        "np.sqrt(mean_squared_error(test_y, grid_search.best_estimator_.predict(test_X)))"
      ],
      "metadata": {
        "id": "S2gL5jFc_kJ6"
      },
      "execution_count": null,
      "outputs": []
    },
    {
      "cell_type": "code",
      "source": [
        "#Best possible parameter combination are - 'max_depth': 80, 'max_features': 'sqrt', 'n_estimators': 200\n",
        "#Training set R2 score of 1.0 may be signal of overfitting on training set\n",
        "#Test set R2 score is 0.63 improvement over 0.57 achieved using untuned model\n",
        "#Test set RMSE score is 0.60 improvement over 0.65 achieved using untuned model"
      ],
      "metadata": {
        "id": "msX132sM_wqX"
      },
      "execution_count": null,
      "outputs": []
    },
    {
      "cell_type": "code",
      "source": [
        "# Get sorted list of features in order of importance\n",
        "feature_indices = np.argsort(grid_search.best_estimator_.feature_importances_)\n",
        "importances = grid_search.best_estimator_.feature_importances_\n",
        "indices = np.argsort(importances)[::-1]\n",
        "names = [train_X.columns[i] for i in indices]\n",
        "# Create plot\n",
        "plt.figure(figsize=(10,6))\n",
        "\n",
        "# Create plot title\n",
        "plt.title(\"Feature Importance\")\n",
        "\n",
        "# Add bars\n",
        "plt.bar(range(train_X.shape[1]), importances[indices])\n",
        "\n",
        "# Add feature names as x-axis labels\n",
        "plt.xticks(range(train_X.shape[1]), names, rotation=90)\n",
        "\n",
        "# Show plot\n",
        "plt.show()\n",
        "\n"
      ],
      "metadata": {
        "id": "qaFGmJkX-INC"
      },
      "execution_count": null,
      "outputs": []
    },
    {
      "cell_type": "code",
      "source": [
        "# Get top 5 most important feature \n",
        "names[0:5]"
      ],
      "metadata": {
        "id": "YPh62NlJ-cpu"
      },
      "execution_count": null,
      "outputs": []
    },
    {
      "cell_type": "code",
      "source": [
        "# Get 5 least important feature \n",
        "names[-5:]"
      ],
      "metadata": {
        "id": "e1uWaFe9-gU9"
      },
      "execution_count": null,
      "outputs": []
    },
    {
      "cell_type": "code",
      "source": [
        "#Based on parameter tunning step we can see that\n",
        "#a. 5 most important features are - 'RH_out', 'RH_8', 'RH_1', 'T3', 'RH_3'\n",
        "#b. 5 least important features are - 'T7','Tdewpoint','Windspeed','T1','T5'\n",
        "#As can be observed with R2 Score , compared to Tuned model 0.63 the R2 score has come down to 0.47 which is decrease of 16% \n",
        "#The reduction in R2 score is high and we should not use reduced feature set for this data set\n"
      ],
      "metadata": {
        "id": "D3kS19ajAW2v"
      },
      "execution_count": null,
      "outputs": []
    },
    {
      "cell_type": "markdown",
      "source": [
        "##### Which hyperparameter optimization technique have you used and why?"
      ],
      "metadata": {
        "id": "_-qAgymDpx6N"
      }
    },
    {
      "cell_type": "markdown",
      "source": [
        "GridSearchCV which uses the Grid Search technique for finding the optimal hyperparameters to increase the model performance.\n",
        "\n",
        "our goal should be to find the best hyperparameters values to get the perfect prediction results from our model. But the question arises, how to find these best sets of hyperparameters? One can try the Manual Search method, by using the hit and trial process and can find the best hyperparameters which would take huge time to build a single model.\n",
        "\n",
        "For this reason, methods like Random Search, GridSearch were introduced. Grid Search uses a different combination of all the specified hyperparameters and their values and calculates the performance for each combination and selects the best value for the hyperparameters. This makes the processing time-consuming and expensive based on the number of hyperparameters involved.\n",
        "\n",
        "In GridSearchCV, along with Grid Search, cross-validation is also performed. Cross-Validation is used while training the model.\n",
        "\n",
        "That's why I have used GridsearCV method for hyperparameter optimization"
      ],
      "metadata": {
        "id": "lQMffxkwpx6N"
      }
    },
    {
      "cell_type": "markdown",
      "source": [
        "##### Have you seen any improvement? Note down the improvement with updates Evaluation metric Score Chart."
      ],
      "metadata": {
        "id": "Z-hykwinpx6N"
      }
    },
    {
      "cell_type": "markdown",
      "source": [
        "Best possible parameter combination are - 'max_depth': 80, 'max_features': 'sqrt', 'n_estimators': 200\n",
        "\n",
        "Training set R2 score of 1.0 may be signal of overfitting on training set\n",
        "\n",
        "Test set R2 score is 0.63 improvement over 0.57 achieved using untuned \n",
        "model\n",
        "Test set RMSE score is 0.60 improvement over 0.65 achieved using untuned model"
      ],
      "metadata": {
        "id": "MzVzZC6opx6N"
      }
    },
    {
      "cell_type": "markdown",
      "source": [
        "### 1. Which Evaluation metrics did you consider for a positive business impact and why?"
      ],
      "metadata": {
        "id": "h_CCil-SKHpo"
      }
    },
    {
      "cell_type": "markdown",
      "source": [
        "9I would like to go with Coefficient of determination also called as R 2 score value 1 means highly fitted model is used to evaluate the performance of a linear regression model. It is the amount of the variation in the output dependent attribute which is predictable from the input independent variable (s)."
      ],
      "metadata": {
        "id": "jHVz9hHDKFms"
      }
    },
    {
      "cell_type": "markdown",
      "source": [
        "### 2. Which ML model did you choose from the above created models as your final prediction model and why?"
      ],
      "metadata": {
        "id": "cBFFvTBNJzUa"
      }
    },
    {
      "cell_type": "markdown",
      "source": [
        "I have choosen ExtraTreeRegressor which is hyperparameter optimized. first of all I need accuracy for the Appliance  and factors here, beacuse the data is not lke swiggy or ola which booking needs to be faster. Thus, for greater accuracy we used kernel SVM,Lasso, Ridge, Random Forest, XgBoost kind of ensembel r=techniques. So, I tried but other model not fitted as ExtraTree Regressor .  I would like to compare"
      ],
      "metadata": {
        "id": "6ksF5Q1LKTVm"
      }
    },
    {
      "cell_type": "markdown",
      "source": [
        "## ***8.*** ***Future Work (Optional)***"
      ],
      "metadata": {
        "id": "EyNgTHvd2WFk"
      }
    },
    {
      "cell_type": "markdown",
      "source": [
        "### 1. Save the best performing ml model in a pickle file or joblib file format for deployment process.\n"
      ],
      "metadata": {
        "id": "KH5McJBi2d8v"
      }
    },
    {
      "cell_type": "code",
      "source": [
        "# Save the File\n",
        "import pickle\n",
        "# now you can save it to a file\n",
        "with open('RFmodel.pkl', 'wb') as f:\n",
        "    pickle.dump(models, f)\n",
        "\n",
        "# and later you can load it\n",
        "with open('RFmodel.pkl', 'rb') as f:\n",
        "    model = pickle.load(f)"
      ],
      "metadata": {
        "id": "bQIANRl32f4J"
      },
      "execution_count": null,
      "outputs": []
    },
    {
      "cell_type": "code",
      "source": [
        "# Load the File and predict unseen data."
      ],
      "metadata": {
        "id": "oEXk9ydD2nVC"
      },
      "execution_count": null,
      "outputs": []
    },
    {
      "cell_type": "markdown",
      "source": [
        "### ***Congrats! Your model is successfully created and ready for deployment on a live server for a real user interaction !!!***"
      ],
      "metadata": {
        "id": "-Kee-DAl2viO"
      }
    },
    {
      "cell_type": "markdown",
      "source": [
        "# **Conclusion**"
      ],
      "metadata": {
        "id": "gCX9965dhzqZ"
      }
    },
    {
      "cell_type": "markdown",
      "source": [
        "The best Algorithm to use for this dataset Extra Trees Regressor\n",
        "\n",
        "The untuned model was able to explain 57% of variance on test set .\n",
        "\n",
        "The tuned model was able to explain 63% of varaince on tese set which is improvement of 10%\n",
        "\n",
        "The final model had 22 features\n",
        "\n",
        "Feature reduction was not able to add to better R2 score\n",
        "\n",
        "feb month has the highest energy consumption of appliances in home. This could mean people stayed more inside in the month feb. To find out if they stayed inside more because of weather conditions further analysis is made.\n",
        "\n",
        "\n",
        "18th hour have most appliance value\n",
        "\n",
        "All the temperature variables from T1-T9 and T_out have positive correlation with the target Appliances\n",
        "\n",
        "All columns follow normal distribution except RH_6 and RH_out , primarly because these sensors are outside the house"
      ],
      "metadata": {
        "id": "Fjb1IsQkh3yE"
      }
    },
    {
      "cell_type": "markdown",
      "source": [
        "### ***Hurrah! You have successfully completed your Machine Learning Capstone Project !!!***"
      ],
      "metadata": {
        "id": "gIfDvo9L0UH2"
      }
    }
  ]
}